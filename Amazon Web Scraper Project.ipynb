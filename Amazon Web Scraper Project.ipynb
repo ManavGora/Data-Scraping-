{
 "cells": [
  {
   "cell_type": "code",
   "execution_count": 6,
   "id": "d05c6ac3",
   "metadata": {},
   "outputs": [],
   "source": [
    "# import libraries\n",
    "\n",
    "from bs4 import BeautifulSoup\n",
    "import requests\n",
    "import smtplib\n",
    "import time\n",
    "import datetime\n"
   ]
  },
  {
   "cell_type": "code",
   "execution_count": 7,
   "id": "365fe2ed",
   "metadata": {},
   "outputs": [
    {
     "name": "stdout",
     "output_type": "stream",
     "text": [
      "Title: Tipping the Velvet | Books to Scrape - Sandbox\n"
     ]
    },
    {
     "data": {
      "application/javascript": [
       "\n",
       "        if (window._pyforest_update_imports_cell) { window._pyforest_update_imports_cell('import re'); }\n",
       "    "
      ],
      "text/plain": [
       "<IPython.core.display.Javascript object>"
      ]
     },
     "metadata": {},
     "output_type": "display_data"
    },
    {
     "name": "stdout",
     "output_type": "stream",
     "text": [
      "Text content: Tipping the Velvet £53.74 In stock (20 available) Warning! This is a demo website for web scraping purposes. Prices and ratings here were randomly assigned and have no real meaning.\n"
     ]
    }
   ],
   "source": [
    "# Connect to the website\n",
    "\n",
    "import requests\n",
    "from bs4 import BeautifulSoup\n",
    "\n",
    "URL = \"https://books.toscrape.com/catalogue/tipping-the-velvet_999/index.html\"\n",
    "headers = {\n",
    "    \"User-Agent\": \"Mozilla/5.0 (Macintosh; Intel Mac OS X 10_15_7) AppleWebKit/605.1.15 (KHTML, like Gecko) Version/17.2.1 Safari/605.1.15\"\n",
    "}\n",
    "\n",
    "page = requests.get(URL, headers=headers)\n",
    "soup1 = BeautifulSoup(page.content, \"html.parser\") \n",
    "soup2 = BeautifulSoup(soup1.prettify(), \"html.parser\")\n",
    "\n",
    "title = soup2.title.string.strip()\n",
    "print(\"Title:\", title)\n",
    "\n",
    "elements_with_class = soup2.find_all(class_='col-sm-6 product_main')\n",
    "\n",
    "# Iterate over the found elements and extract data\n",
    "for element in elements_with_class:\n",
    "    # Extract text content\n",
    "    text_content = re.sub(r'\\s+', ' ', element.get_text()).strip()\n",
    "    #text_content = element.get_text().strip()\n",
    "    print(\"Text content:\", text_content)\n",
    "    \n",
    "    \n",
    "# title_element = soup2.find(id='productTitle').get_text()\n",
    "# if title_element:\n",
    "#     title = title_element.get_text().strip()\n",
    "# else:\n",
    "#     title = \"Title not found\"\n",
    "\n",
    "# price_element = soup2.find(id='price')\n",
    "# if price_element:\n",
    "#     price = price_element.get_text().strip()\n",
    "# else:\n",
    "#     price = \"Price not found\"\n",
    "\n",
    "# print(title)\n",
    "# print(price)\n",
    "\n"
   ]
  },
  {
   "cell_type": "code",
   "execution_count": 8,
   "id": "a0fa3e4f",
   "metadata": {},
   "outputs": [
    {
     "name": "stdout",
     "output_type": "stream",
     "text": [
      "53.74\n"
     ]
    }
   ],
   "source": [
    "text_content = text_content.strip()[20:25]\n",
    "print(text_content)"
   ]
  },
  {
   "cell_type": "code",
   "execution_count": 9,
   "id": "a01d4897",
   "metadata": {},
   "outputs": [
    {
     "name": "stdout",
     "output_type": "stream",
     "text": [
      "Tipping the Velvet\n"
     ]
    }
   ],
   "source": [
    "title = title.strip()[:18]\n",
    "print(title)"
   ]
  },
  {
   "cell_type": "code",
   "execution_count": 10,
   "id": "16bcacd8",
   "metadata": {},
   "outputs": [
    {
     "name": "stdout",
     "output_type": "stream",
     "text": [
      "2024-02-19\n"
     ]
    }
   ],
   "source": [
    "today = datetime.date.today()\n",
    "\n",
    "print(today)"
   ]
  },
  {
   "cell_type": "code",
   "execution_count": 11,
   "id": "22bad265",
   "metadata": {},
   "outputs": [],
   "source": [
    "import csv\n",
    "\n",
    "header = ['Title', 'Price','Date']\n",
    "data = [title.strip(), text_content.strip(), today]\n",
    "\n",
    "\n",
    "with open('AmazonWebScraper2.csv','w',newline='', encoding = 'UTF8') as f:\n",
    "    writer = csv.writer(f)\n",
    "    writer.writerow(header)\n",
    "    writer.writerow(data)"
   ]
  },
  {
   "cell_type": "code",
   "execution_count": 23,
   "id": "0ecbd0ba",
   "metadata": {},
   "outputs": [
    {
     "name": "stdout",
     "output_type": "stream",
     "text": [
      "                Title  Price        Date\n",
      "0  Tipping the Velvet  53.74  2024-02-19\n"
     ]
    }
   ],
   "source": [
    "import pandas as pd\n",
    "\n",
    "df = pd.read_csv('/Users/manavgora/Downloads/AmazonWebScraper2.csv')\n",
    "\n",
    "print(df)"
   ]
  },
  {
   "cell_type": "code",
   "execution_count": 22,
   "id": "afc02941",
   "metadata": {},
   "outputs": [],
   "source": [
    "# to append the data\n",
    "\n",
    "with open('AmazonWebScraper2.csv','a+',newline='', encoding = 'UTF8') as f:\n",
    "    writer = csv.writer(f)\n",
    "    writer.writerow(data)"
   ]
  },
  {
   "cell_type": "code",
   "execution_count": 24,
   "id": "884dd493",
   "metadata": {},
   "outputs": [],
   "source": [
    "import os\n",
    "\n",
    "# Function to check if file is empty\n",
    "def is_empty(file_path):\n",
    "    return os.stat(file_path).st_size == 0\n",
    "\n",
    "# Append data to CSV file\n",
    "def append_to_csv(data):\n",
    "    file_path = '/Users/manavgora/Downloads/AmazonWebScraper2.csv'\n",
    "    header = ['Title', 'Price', 'Date']\n",
    "    is_new_file = is_empty(file_path)\n",
    "\n",
    "    with open(file_path, 'a+', newline='', encoding='UTF8') as f:\n",
    "        writer = csv.writer(f)\n",
    "        if is_new_file:\n",
    "            writer.writerow(header)\n",
    "        writer.writerow(data)\n"
   ]
  },
  {
   "cell_type": "code",
   "execution_count": 25,
   "id": "7f023cdf",
   "metadata": {},
   "outputs": [],
   "source": [
    "# def check_price():\n",
    "    \n",
    "#     URL = \"https://books.toscrape.com/catalogue/tipping-the-velvet_999/index.html\"\n",
    "    \n",
    "#     headers = {\n",
    "#     \"User-Agent\": \"Mozilla/5.0 (Macintosh; Intel Mac OS X 10_15_7) AppleWebKit/605.1.15 (KHTML, like Gecko) Version/17.2.1 Safari/605.1.15\"\n",
    "#     }\n",
    "\n",
    "#     page = requests.get(URL, headers=headers)\n",
    "#     soup1 = BeautifulSoup(page.content, \"html.parser\") \n",
    "#     soup2 = BeautifulSoup(soup1.prettify(), \"html.parser\")\n",
    "\n",
    "#     title = soup2.title.string.strip()\n",
    "#     #print(\"Title:\", title)\n",
    "\n",
    "#     elements_with_class = soup2.find_all(class_='col-sm-6 product_main')\n",
    "\n",
    "#     # Iterate over the found elements and extract data\n",
    "#     for element in elements_with_class:\n",
    "#         # Extract text content\n",
    "#         text_content = re.sub(r'\\s+', ' ', element.get_text()).strip()\n",
    "#         #text_content = element.get_text().strip()\n",
    "#         #print(\"Text content:\", text_content)\n",
    "        \n",
    "#     text_content = text_content.strip()[20:25]   \n",
    "    \n",
    "#     title = title.strip()[:18]\n",
    "    \n",
    "#     today = datetime.date.today()\n",
    "\n",
    "# #     print(today)\n",
    "    \n",
    "#     import csv\n",
    "\n",
    "#     header = ['Title', 'Price','Date']\n",
    "#     data = [title.strip(), text_content.strip(), today]\n",
    "    \n",
    "#     # to append the data\n",
    "\n",
    "#     with open('AmazonWebScraper2.csv','a+',newline='', encoding = 'UTF8') as f:\n",
    "#         writer = csv.writer(f)\n",
    "#         writer.writerow(data)\n",
    "    \n",
    "    \n",
    "def check_price():\n",
    "    URL = \"https://books.toscrape.com/catalogue/tipping-the-velvet_999/index.html\"\n",
    "    \n",
    "    headers = {\n",
    "        \"User-Agent\": \"Mozilla/5.0 (Macintosh; Intel Mac OS X 10_15_7) AppleWebKit/605.1.15 (KHTML, like Gecko) Version/17.2.1 Safari/605.1.15\"\n",
    "    }\n",
    "\n",
    "    page = requests.get(URL, headers=headers)\n",
    "    soup1 = BeautifulSoup(page.content, \"html.parser\") \n",
    "    soup2 = BeautifulSoup(soup1.prettify(), \"html.parser\")\n",
    "\n",
    "    title = soup2.title.string.strip()\n",
    "    elements_with_class = soup2.find_all(class_='col-sm-6 product_main')\n",
    "\n",
    "    for element in elements_with_class:\n",
    "        text_content = re.sub(r'\\s+', ' ', element.get_text()).strip()\n",
    "        \n",
    "    text_content = text_content.strip()[20:25]   \n",
    "    title = title.strip()[:18]\n",
    "    today = datetime.date.today()\n",
    "\n",
    "    # Append data to CSV\n",
    "    data = [title.strip(), text_content.strip(), today]\n",
    "    append_to_csv(data)\n",
    "    \n",
    "    "
   ]
  },
  {
   "cell_type": "code",
   "execution_count": 33,
   "id": "fde3d3dc",
   "metadata": {},
   "outputs": [],
   "source": [
    "if float(text_content) < 14:\n",
    "    send_mail()"
   ]
  },
  {
   "cell_type": "code",
   "execution_count": 26,
   "id": "c5d8ae86",
   "metadata": {},
   "outputs": [
    {
     "data": {
      "application/javascript": [
       "\n",
       "        if (window._pyforest_update_imports_cell) { window._pyforest_update_imports_cell('import re'); }\n",
       "    "
      ],
      "text/plain": [
       "<IPython.core.display.Javascript object>"
      ]
     },
     "metadata": {},
     "output_type": "display_data"
    },
    {
     "data": {
      "application/javascript": [
       "\n",
       "        if (window._pyforest_update_imports_cell) { window._pyforest_update_imports_cell('import re'); }\n",
       "    "
      ],
      "text/plain": [
       "<IPython.core.display.Javascript object>"
      ]
     },
     "metadata": {},
     "output_type": "display_data"
    },
    {
     "data": {
      "application/javascript": [
       "\n",
       "        if (window._pyforest_update_imports_cell) { window._pyforest_update_imports_cell('import re'); }\n",
       "    "
      ],
      "text/plain": [
       "<IPython.core.display.Javascript object>"
      ]
     },
     "metadata": {},
     "output_type": "display_data"
    },
    {
     "ename": "KeyboardInterrupt",
     "evalue": "",
     "output_type": "error",
     "traceback": [
      "\u001b[0;31m---------------------------------------------------------------------------\u001b[0m",
      "\u001b[0;31mKeyboardInterrupt\u001b[0m                         Traceback (most recent call last)",
      "Cell \u001b[0;32mIn[26], line 3\u001b[0m\n\u001b[1;32m      1\u001b[0m \u001b[38;5;28;01mwhile\u001b[39;00m(\u001b[38;5;28;01mTrue\u001b[39;00m):\n\u001b[1;32m      2\u001b[0m     check_price()\n\u001b[0;32m----> 3\u001b[0m     \u001b[43mtime\u001b[49m\u001b[38;5;241;43m.\u001b[39;49m\u001b[43msleep\u001b[49m\u001b[43m(\u001b[49m\u001b[38;5;241;43m5\u001b[39;49m\u001b[43m)\u001b[49m\n",
      "\u001b[0;31mKeyboardInterrupt\u001b[0m: "
     ]
    }
   ],
   "source": [
    "while(True):\n",
    "    check_price()\n",
    "    time.sleep(5)"
   ]
  },
  {
   "cell_type": "code",
   "execution_count": 27,
   "id": "3a9f7b91",
   "metadata": {},
   "outputs": [
    {
     "name": "stdout",
     "output_type": "stream",
     "text": [
      "                Title  Price        Date\n",
      "0  Tipping the Velvet  53.74  2024-02-19\n",
      "1  Tipping the Velvet  53.74  2024-02-19\n",
      "2  Tipping the Velvet  53.74  2024-02-19\n",
      "3  Tipping the Velvet  53.74  2024-02-19\n"
     ]
    }
   ],
   "source": [
    "\n",
    "df = pd.read_csv('/Users/manavgora/Downloads/AmazonWebScraper2.csv')\n",
    "\n",
    "print(df)"
   ]
  },
  {
   "cell_type": "code",
   "execution_count": 35,
   "id": "6c24739a",
   "metadata": {},
   "outputs": [],
   "source": [
    "def send_mail():\n",
    "    server = smtplib.SMTP_SSL('smtp.gmail.com',465)\n",
    "    server.ehlo()\n",
    "    #server. starttls()\n",
    "    server.ehlo()\n",
    "    server.login('man avgora@gmail.com', 'xxxxxxxxx')\n",
    "    \n",
    "    subject = \"The Shirt you want is below $15! Now is your chance to buy!\"\n",
    "    \n",
    "    body = \"Alex, This is the moment we have been waiting for. Now is your chance to pick up the shirt of your dreams. Don't mess\"\n",
    "    \n",
    "    msg = f\"Subject: {subject}\\n\\n{body}\"\n",
    "    \n",
    "    server. sendmail(\n",
    "        'manavgora@gmail.com',\n",
    "        msg\n",
    "                    )"
   ]
  },
  {
   "cell_type": "code",
   "execution_count": null,
   "id": "6edd3888",
   "metadata": {},
   "outputs": [],
   "source": []
  },
  {
   "cell_type": "code",
   "execution_count": null,
   "id": "271dd307",
   "metadata": {},
   "outputs": [],
   "source": []
  },
  {
   "cell_type": "code",
   "execution_count": null,
   "id": "d22d02db",
   "metadata": {},
   "outputs": [],
   "source": []
  },
  {
   "cell_type": "code",
   "execution_count": null,
   "id": "dcc49c58",
   "metadata": {},
   "outputs": [],
   "source": []
  },
  {
   "cell_type": "code",
   "execution_count": null,
   "id": "f5f82582",
   "metadata": {},
   "outputs": [],
   "source": []
  },
  {
   "cell_type": "code",
   "execution_count": null,
   "id": "472e5e12",
   "metadata": {},
   "outputs": [],
   "source": []
  },
  {
   "cell_type": "code",
   "execution_count": null,
   "id": "3ab39253",
   "metadata": {},
   "outputs": [],
   "source": []
  },
  {
   "cell_type": "code",
   "execution_count": null,
   "id": "f37350f2",
   "metadata": {},
   "outputs": [],
   "source": []
  },
  {
   "cell_type": "code",
   "execution_count": null,
   "id": "6830a583",
   "metadata": {},
   "outputs": [],
   "source": []
  },
  {
   "cell_type": "code",
   "execution_count": null,
   "id": "d4915100",
   "metadata": {},
   "outputs": [],
   "source": []
  },
  {
   "cell_type": "code",
   "execution_count": null,
   "id": "4002e2a8",
   "metadata": {},
   "outputs": [],
   "source": []
  }
 ],
 "metadata": {
  "kernelspec": {
   "display_name": "Python 3 (ipykernel)",
   "language": "python",
   "name": "python3"
  },
  "language_info": {
   "codemirror_mode": {
    "name": "ipython",
    "version": 3
   },
   "file_extension": ".py",
   "mimetype": "text/x-python",
   "name": "python",
   "nbconvert_exporter": "python",
   "pygments_lexer": "ipython3",
   "version": "3.10.9"
  }
 },
 "nbformat": 4,
 "nbformat_minor": 5
}
